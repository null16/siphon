{
  "nbformat": 4,
  "nbformat_minor": 0,
  "metadata": {
    "colab": {
      "provenance": [],
      "gpuType": "T4"
    },
    "kernelspec": {
      "name": "python3",
      "display_name": "Python 3"
    },
    "language_info": {
      "name": "python"
    },
    "accelerator": "GPU"
  },
  "cells": [
    {
      "cell_type": "code",
      "source": [
        "import time\n",
        "initial_start_time = time.time()\n",
        "\n",
        "from torchvision.datasets import MNIST\n",
        "from torchvision import transforms\n",
        "from torch.utils.data import DataLoader\n",
        "from tqdm import tqdm\n",
        "\n",
        "import matplotlib.pyplot as plt\n",
        "\n",
        "import torch.optim as optim\n",
        "import torch.nn as nn\n",
        "\n",
        "\n",
        "import torch\n",
        "device = torch.device(\"cuda\")"
      ],
      "metadata": {
        "id": "s0-h7WpCgJUG"
      },
      "execution_count": 1,
      "outputs": []
    },
    {
      "cell_type": "code",
      "source": [
        "torch.random.manual_seed(1602)\n",
        "torch.randn(1).item() # should print -0.1493116319179535"
      ],
      "metadata": {
        "colab": {
          "base_uri": "https://localhost:8080/"
        },
        "id": "0i5ClphkO7S8",
        "outputId": "cb285c15-64ca-44c8-b9ca-cd4538532db6"
      },
      "execution_count": 2,
      "outputs": [
        {
          "output_type": "execute_result",
          "data": {
            "text/plain": [
              "-0.1493116319179535"
            ]
          },
          "metadata": {},
          "execution_count": 2
        }
      ]
    },
    {
      "cell_type": "code",
      "source": [
        "DATA_DIR = \"data\"\n",
        "BATCH_SIZE = 16384\n",
        "\n",
        "training_data = MNIST(DATA_DIR, transform=transforms.ToTensor(), download=True)\n",
        "train_dataloader = DataLoader(training_data, batch_size=BATCH_SIZE, shuffle=True)"
      ],
      "metadata": {
        "id": "XxKP0UCVfWz6",
        "colab": {
          "base_uri": "https://localhost:8080/"
        },
        "outputId": "fe04cb35-19ba-46de-a941-9e5b2537a1aa"
      },
      "execution_count": 3,
      "outputs": [
        {
          "output_type": "stream",
          "name": "stderr",
          "text": [
            "100%|██████████| 9.91M/9.91M [00:00<00:00, 17.8MB/s]\n",
            "100%|██████████| 28.9k/28.9k [00:00<00:00, 479kB/s]\n",
            "100%|██████████| 1.65M/1.65M [00:00<00:00, 3.84MB/s]\n",
            "100%|██████████| 4.54k/4.54k [00:00<00:00, 8.95MB/s]\n"
          ]
        }
      ]
    },
    {
      "cell_type": "code",
      "source": [
        "model = nn.Sequential(\n",
        "    nn.Conv2d(1, 128, 3),\n",
        "    nn.BatchNorm2d(128),\n",
        "    nn.MaxPool2d(2),\n",
        "    nn.Dropout(),\n",
        "\n",
        "    nn.Conv2d(128, 128, 3),\n",
        "    nn.BatchNorm2d(128),\n",
        "    nn.MaxPool2d(2),\n",
        "    nn.Dropout(),\n",
        "\n",
        "\n",
        "    nn.Flatten(),\n",
        "\n",
        "    nn.Linear(3200, 128),\n",
        "    nn.Dropout(),\n",
        "    nn.Linear(128, 10),\n",
        "\n",
        ").to(device)\n",
        "\n",
        "model = torch.compile(model)"
      ],
      "metadata": {
        "id": "_R_reH5w9JIQ"
      },
      "execution_count": 4,
      "outputs": []
    },
    {
      "cell_type": "code",
      "source": [
        "batches = []\n",
        "for images, labels in tqdm(train_dataloader, desc=\"loading all data to gpu.\"):\n",
        "  batches.append((images.to(device), labels.to(device)))"
      ],
      "metadata": {
        "colab": {
          "base_uri": "https://localhost:8080/"
        },
        "id": "wztNrWstAk3n",
        "outputId": "9239f903-b5a6-4bbd-d5fb-9959e69b5a05"
      },
      "execution_count": 5,
      "outputs": [
        {
          "output_type": "stream",
          "name": "stderr",
          "text": [
            "loading all data to gpu.: 100%|██████████| 4/4 [00:07<00:00,  1.99s/it]\n"
          ]
        }
      ]
    },
    {
      "cell_type": "code",
      "source": [
        "optimizer = optim.Adam(model.parameters())\n",
        "crossentropy = nn.CrossEntropyLoss()"
      ],
      "metadata": {
        "id": "B9kVwCuQAxy-"
      },
      "execution_count": 6,
      "outputs": []
    },
    {
      "cell_type": "code",
      "source": [
        "!rm -rf checkpoints\n",
        "!mkdir checkpoints\n",
        "speed = []\n",
        "loss_history = []\n",
        "\n",
        "scaler = torch.amp.GradScaler('cuda')\n",
        "with torch.amp.autocast('cuda'):\n",
        "  for t in range(len(batches)*100):\n",
        "    start_time = time.time()\n",
        "\n",
        "    images, labels = batches[t%(len(batches))]\n",
        "\n",
        "    optimizer.zero_grad()\n",
        "\n",
        "    predictions = model(images)\n",
        "    loss = crossentropy(predictions, labels)\n",
        "    loss_history.append(loss.item())\n",
        "\n",
        "    scaler.scale(loss).backward()\n",
        "    scaler.step(optimizer)\n",
        "    scaler.update()\n",
        "\n",
        "    end_time = time.time()\n",
        "\n",
        "    if t % 50 == 0:\n",
        "      torch.save({\n",
        "          'epoch': t,\n",
        "          'model_state_dict': model.state_dict(),\n",
        "          'optimizer_state_dict': optimizer.state_dict(),\n",
        "          'loss': loss,\n",
        "      }, f'checkpoints/checkpoint-{t}-loss={loss:.5f}.pth')\n",
        "      print(f\"saving checkpoint, #{t}, loss: {loss:.5f}\")\n",
        "\n",
        "    speed.append(images.shape[0]/(end_time-start_time))\n",
        "    print(f\"#{t}, loss: {loss:.15f}, speed: {speed[-1]:.2f} imgs/s, iter-time: {end_time-start_time:.2f}s, total-time-spent: {end_time-initial_start_time:.2f}\")"
      ],
      "metadata": {
        "colab": {
          "base_uri": "https://localhost:8080/"
        },
        "id": "J5onxMtTAU3A",
        "outputId": "440904fc-acf8-4e4f-caad-0543ffbd26a0"
      },
      "execution_count": 7,
      "outputs": [
        {
          "output_type": "stream",
          "name": "stderr",
          "text": [
            "W0622 15:27:34.490000 339 torch/_inductor/utils.py:1137] [0/0] Not enough SMs to use max_autotune_gemm mode\n"
          ]
        },
        {
          "output_type": "stream",
          "name": "stdout",
          "text": [
            "saving checkpoint, #0, loss: 2.61933\n",
            "#0, loss: 2.619331121444702, speed: 421.43 imgs/s, iter-time: 38.88s, total-time-spent: 66.67\n",
            "#1, loss: 4.049979209899902, speed: 36011.14 imgs/s, iter-time: 0.45s, total-time-spent: 67.15\n",
            "#2, loss: 4.032312393188477, speed: 43641.97 imgs/s, iter-time: 0.38s, total-time-spent: 67.52\n",
            "#3, loss: 3.095483064651489, speed: 500.78 imgs/s, iter-time: 21.66s, total-time-spent: 89.19\n",
            "#4, loss: 2.618936538696289, speed: 24590.11 imgs/s, iter-time: 0.67s, total-time-spent: 89.85\n",
            "#5, loss: 2.187489271163940, speed: 35423.93 imgs/s, iter-time: 0.46s, total-time-spent: 90.32\n",
            "#6, loss: 2.220566749572754, speed: 25866.78 imgs/s, iter-time: 0.63s, total-time-spent: 90.95\n",
            "#7, loss: 1.842676043510437, speed: 34499.56 imgs/s, iter-time: 0.31s, total-time-spent: 91.27\n",
            "#8, loss: 1.280581951141357, speed: 35485.35 imgs/s, iter-time: 0.46s, total-time-spent: 91.73\n",
            "#9, loss: 0.934788942337036, speed: 32887.65 imgs/s, iter-time: 0.50s, total-time-spent: 92.23\n",
            "#10, loss: 0.745912909507751, speed: 35306.39 imgs/s, iter-time: 0.46s, total-time-spent: 92.69\n",
            "#11, loss: 0.765123128890991, speed: 32267.13 imgs/s, iter-time: 0.34s, total-time-spent: 93.03\n",
            "#12, loss: 0.920628190040588, speed: 34681.34 imgs/s, iter-time: 0.47s, total-time-spent: 93.50\n",
            "#13, loss: 0.937615573406219, speed: 34257.87 imgs/s, iter-time: 0.48s, total-time-spent: 93.98\n",
            "#14, loss: 0.845392525196075, speed: 34084.30 imgs/s, iter-time: 0.48s, total-time-spent: 94.46\n",
            "#15, loss: 0.757426142692566, speed: 34578.97 imgs/s, iter-time: 0.31s, total-time-spent: 94.78\n",
            "#16, loss: 0.667743563652039, speed: 33774.21 imgs/s, iter-time: 0.49s, total-time-spent: 95.26\n",
            "#17, loss: 0.601371586322784, speed: 34288.16 imgs/s, iter-time: 0.48s, total-time-spent: 95.74\n",
            "#18, loss: 0.556013643741608, speed: 33874.59 imgs/s, iter-time: 0.48s, total-time-spent: 96.22\n",
            "#19, loss: 0.548475623130798, speed: 34670.48 imgs/s, iter-time: 0.31s, total-time-spent: 96.54\n",
            "#20, loss: 0.560291528701782, speed: 34215.35 imgs/s, iter-time: 0.48s, total-time-spent: 97.01\n",
            "#21, loss: 0.550159573554993, speed: 33572.10 imgs/s, iter-time: 0.49s, total-time-spent: 97.50\n",
            "#22, loss: 0.547345817089081, speed: 34272.22 imgs/s, iter-time: 0.48s, total-time-spent: 97.98\n",
            "#23, loss: 0.544267177581787, speed: 33476.32 imgs/s, iter-time: 0.32s, total-time-spent: 98.30\n",
            "#24, loss: 0.556294083595276, speed: 33909.35 imgs/s, iter-time: 0.48s, total-time-spent: 98.79\n",
            "#25, loss: 0.511057078838348, speed: 33420.03 imgs/s, iter-time: 0.49s, total-time-spent: 99.28\n",
            "#26, loss: 0.491131663322449, speed: 33975.19 imgs/s, iter-time: 0.48s, total-time-spent: 99.76\n",
            "#27, loss: 0.480158358812332, speed: 33256.59 imgs/s, iter-time: 0.33s, total-time-spent: 100.09\n",
            "#28, loss: 0.467457085847855, speed: 33761.52 imgs/s, iter-time: 0.49s, total-time-spent: 100.57\n",
            "#29, loss: 0.447071492671967, speed: 33472.47 imgs/s, iter-time: 0.49s, total-time-spent: 101.06\n",
            "#30, loss: 0.420901507139206, speed: 33710.08 imgs/s, iter-time: 0.49s, total-time-spent: 101.55\n",
            "#31, loss: 0.419799298048019, speed: 33431.77 imgs/s, iter-time: 0.32s, total-time-spent: 101.87\n",
            "#32, loss: 0.421445310115814, speed: 33376.55 imgs/s, iter-time: 0.49s, total-time-spent: 102.37\n",
            "#33, loss: 0.401824265718460, speed: 33163.58 imgs/s, iter-time: 0.49s, total-time-spent: 102.86\n",
            "#34, loss: 0.393670618534088, speed: 33563.68 imgs/s, iter-time: 0.49s, total-time-spent: 103.35\n",
            "#35, loss: 0.409705638885498, speed: 32444.57 imgs/s, iter-time: 0.33s, total-time-spent: 103.68\n",
            "#36, loss: 0.401071518659592, speed: 33483.51 imgs/s, iter-time: 0.49s, total-time-spent: 104.17\n",
            "#37, loss: 0.390128105878830, speed: 33047.11 imgs/s, iter-time: 0.50s, total-time-spent: 104.67\n",
            "#38, loss: 0.368243813514709, speed: 33701.33 imgs/s, iter-time: 0.49s, total-time-spent: 105.15\n",
            "#39, loss: 0.376689553260803, speed: 33102.33 imgs/s, iter-time: 0.33s, total-time-spent: 105.48\n",
            "#40, loss: 0.361578613519669, speed: 33140.18 imgs/s, iter-time: 0.49s, total-time-spent: 105.98\n",
            "#41, loss: 0.354735702276230, speed: 33252.80 imgs/s, iter-time: 0.49s, total-time-spent: 106.47\n",
            "#42, loss: 0.335682958364487, speed: 33669.15 imgs/s, iter-time: 0.49s, total-time-spent: 106.96\n",
            "#43, loss: 0.340557456016541, speed: 33015.28 imgs/s, iter-time: 0.33s, total-time-spent: 107.29\n",
            "#44, loss: 0.338111668825150, speed: 32783.82 imgs/s, iter-time: 0.50s, total-time-spent: 107.78\n",
            "#45, loss: 0.325846850872040, speed: 33020.54 imgs/s, iter-time: 0.50s, total-time-spent: 108.28\n",
            "#46, loss: 0.316914379596710, speed: 32888.30 imgs/s, iter-time: 0.50s, total-time-spent: 108.78\n",
            "#47, loss: 0.320242762565613, speed: 32880.72 imgs/s, iter-time: 0.33s, total-time-spent: 109.11\n",
            "#48, loss: 0.319711387157440, speed: 32765.47 imgs/s, iter-time: 0.50s, total-time-spent: 109.61\n",
            "#49, loss: 0.310132861137390, speed: 32762.30 imgs/s, iter-time: 0.50s, total-time-spent: 110.11\n",
            "saving checkpoint, #50, loss: 0.29871\n",
            "#50, loss: 0.298711210489273, speed: 33343.80 imgs/s, iter-time: 0.49s, total-time-spent: 110.60\n",
            "#51, loss: 0.295273989439011, speed: 33333.80 imgs/s, iter-time: 0.33s, total-time-spent: 110.94\n",
            "#52, loss: 0.293815433979034, speed: 32604.45 imgs/s, iter-time: 0.50s, total-time-spent: 111.44\n",
            "#53, loss: 0.285030394792557, speed: 32483.52 imgs/s, iter-time: 0.50s, total-time-spent: 111.95\n",
            "#54, loss: 0.272365510463715, speed: 33314.16 imgs/s, iter-time: 0.49s, total-time-spent: 112.44\n",
            "#55, loss: 0.279632687568665, speed: 32565.25 imgs/s, iter-time: 0.33s, total-time-spent: 112.77\n",
            "#56, loss: 0.273176074028015, speed: 33110.37 imgs/s, iter-time: 0.49s, total-time-spent: 113.27\n",
            "#57, loss: 0.269168376922607, speed: 32665.48 imgs/s, iter-time: 0.50s, total-time-spent: 113.77\n",
            "#58, loss: 0.259684801101685, speed: 33533.64 imgs/s, iter-time: 0.49s, total-time-spent: 114.26\n",
            "#59, loss: 0.263999491930008, speed: 32562.85 imgs/s, iter-time: 0.33s, total-time-spent: 114.59\n",
            "#60, loss: 0.257231891155243, speed: 33151.23 imgs/s, iter-time: 0.49s, total-time-spent: 115.09\n",
            "#61, loss: 0.251969426870346, speed: 33229.94 imgs/s, iter-time: 0.49s, total-time-spent: 115.58\n",
            "#62, loss: 0.246980130672455, speed: 33153.29 imgs/s, iter-time: 0.49s, total-time-spent: 116.07\n",
            "#63, loss: 0.244694143533707, speed: 32722.09 imgs/s, iter-time: 0.33s, total-time-spent: 116.41\n",
            "#64, loss: 0.242925375699997, speed: 32972.79 imgs/s, iter-time: 0.50s, total-time-spent: 116.90\n",
            "#65, loss: 0.241044819355011, speed: 33436.65 imgs/s, iter-time: 0.49s, total-time-spent: 117.39\n",
            "#66, loss: 0.236835777759552, speed: 33524.10 imgs/s, iter-time: 0.49s, total-time-spent: 117.88\n",
            "#67, loss: 0.227883279323578, speed: 33097.27 imgs/s, iter-time: 0.33s, total-time-spent: 118.21\n",
            "#68, loss: 0.235225304961205, speed: 33340.81 imgs/s, iter-time: 0.49s, total-time-spent: 118.70\n",
            "#69, loss: 0.228778913617134, speed: 33268.10 imgs/s, iter-time: 0.49s, total-time-spent: 119.19\n",
            "#70, loss: 0.222956240177155, speed: 33925.76 imgs/s, iter-time: 0.48s, total-time-spent: 119.68\n",
            "#71, loss: 0.218036800622940, speed: 33365.14 imgs/s, iter-time: 0.33s, total-time-spent: 120.00\n",
            "#72, loss: 0.217662855982780, speed: 33770.99 imgs/s, iter-time: 0.49s, total-time-spent: 120.49\n",
            "#73, loss: 0.214295476675034, speed: 33860.78 imgs/s, iter-time: 0.48s, total-time-spent: 120.97\n",
            "#74, loss: 0.212901636958122, speed: 33261.11 imgs/s, iter-time: 0.49s, total-time-spent: 121.46\n",
            "#75, loss: 0.214321330189705, speed: 33543.77 imgs/s, iter-time: 0.32s, total-time-spent: 121.79\n",
            "#76, loss: 0.214057430624962, speed: 34134.84 imgs/s, iter-time: 0.48s, total-time-spent: 122.27\n",
            "#77, loss: 0.205253377556801, speed: 33741.00 imgs/s, iter-time: 0.49s, total-time-spent: 122.75\n",
            "#78, loss: 0.200802579522133, speed: 33690.16 imgs/s, iter-time: 0.49s, total-time-spent: 123.24\n",
            "#79, loss: 0.205556005239487, speed: 33699.34 imgs/s, iter-time: 0.32s, total-time-spent: 123.56\n",
            "#80, loss: 0.203433230519295, speed: 34361.25 imgs/s, iter-time: 0.48s, total-time-spent: 124.04\n",
            "#81, loss: 0.200350299477577, speed: 34337.78 imgs/s, iter-time: 0.48s, total-time-spent: 124.52\n",
            "#82, loss: 0.196532219648361, speed: 34225.42 imgs/s, iter-time: 0.48s, total-time-spent: 125.00\n",
            "#83, loss: 0.195084795355797, speed: 33770.68 imgs/s, iter-time: 0.32s, total-time-spent: 125.32\n",
            "#84, loss: 0.193633392453194, speed: 34564.10 imgs/s, iter-time: 0.47s, total-time-spent: 125.79\n",
            "#85, loss: 0.190236628055573, speed: 34284.52 imgs/s, iter-time: 0.48s, total-time-spent: 126.27\n",
            "#86, loss: 0.189418882131577, speed: 34461.24 imgs/s, iter-time: 0.48s, total-time-spent: 126.75\n",
            "#87, loss: 0.191860407590866, speed: 34379.18 imgs/s, iter-time: 0.32s, total-time-spent: 127.06\n",
            "#88, loss: 0.182472765445709, speed: 34072.90 imgs/s, iter-time: 0.48s, total-time-spent: 127.54\n",
            "#89, loss: 0.183177351951599, speed: 34798.90 imgs/s, iter-time: 0.47s, total-time-spent: 128.01\n",
            "#90, loss: 0.178027123212814, speed: 34059.23 imgs/s, iter-time: 0.48s, total-time-spent: 128.49\n",
            "#91, loss: 0.182384654879570, speed: 34788.98 imgs/s, iter-time: 0.31s, total-time-spent: 128.81\n",
            "#92, loss: 0.175903439521790, speed: 34720.91 imgs/s, iter-time: 0.47s, total-time-spent: 129.28\n",
            "#93, loss: 0.176423057913780, speed: 34929.62 imgs/s, iter-time: 0.47s, total-time-spent: 129.75\n",
            "#94, loss: 0.171998620033264, speed: 34692.51 imgs/s, iter-time: 0.47s, total-time-spent: 130.22\n",
            "#95, loss: 0.172295138239861, speed: 33597.30 imgs/s, iter-time: 0.32s, total-time-spent: 130.54\n",
            "#96, loss: 0.170466899871826, speed: 34858.18 imgs/s, iter-time: 0.47s, total-time-spent: 131.01\n",
            "#97, loss: 0.168613985180855, speed: 34739.32 imgs/s, iter-time: 0.47s, total-time-spent: 131.48\n",
            "#98, loss: 0.167825698852539, speed: 34883.32 imgs/s, iter-time: 0.47s, total-time-spent: 131.95\n",
            "#99, loss: 0.169319644570351, speed: 34975.85 imgs/s, iter-time: 0.31s, total-time-spent: 132.26\n",
            "saving checkpoint, #100, loss: 0.16371\n",
            "#100, loss: 0.163708239793777, speed: 34438.46 imgs/s, iter-time: 0.48s, total-time-spent: 132.74\n",
            "#101, loss: 0.164041280746460, speed: 35835.55 imgs/s, iter-time: 0.46s, total-time-spent: 133.22\n",
            "#102, loss: 0.159381881356239, speed: 34490.75 imgs/s, iter-time: 0.48s, total-time-spent: 133.69\n",
            "#103, loss: 0.163156121969223, speed: 34830.31 imgs/s, iter-time: 0.31s, total-time-spent: 134.00\n",
            "#104, loss: 0.161213517189026, speed: 35346.14 imgs/s, iter-time: 0.46s, total-time-spent: 134.47\n",
            "#105, loss: 0.160078823566437, speed: 34680.17 imgs/s, iter-time: 0.47s, total-time-spent: 134.94\n",
            "#106, loss: 0.158262550830841, speed: 35357.75 imgs/s, iter-time: 0.46s, total-time-spent: 135.40\n",
            "#107, loss: 0.157654270529747, speed: 33997.30 imgs/s, iter-time: 0.32s, total-time-spent: 135.72\n",
            "#108, loss: 0.157634600996971, speed: 35278.15 imgs/s, iter-time: 0.46s, total-time-spent: 136.19\n",
            "#109, loss: 0.155009940266609, speed: 35190.98 imgs/s, iter-time: 0.47s, total-time-spent: 136.65\n",
            "#110, loss: 0.155647441744804, speed: 35054.79 imgs/s, iter-time: 0.47s, total-time-spent: 137.12\n",
            "#111, loss: 0.155356198549271, speed: 35277.30 imgs/s, iter-time: 0.31s, total-time-spent: 137.43\n",
            "#112, loss: 0.154885724186897, speed: 35106.15 imgs/s, iter-time: 0.47s, total-time-spent: 137.90\n",
            "#113, loss: 0.154804676771164, speed: 35066.68 imgs/s, iter-time: 0.47s, total-time-spent: 138.36\n",
            "#114, loss: 0.147223770618439, speed: 35043.42 imgs/s, iter-time: 0.47s, total-time-spent: 138.83\n",
            "#115, loss: 0.149813294410706, speed: 34605.19 imgs/s, iter-time: 0.31s, total-time-spent: 139.15\n",
            "#116, loss: 0.146378591656685, speed: 35469.34 imgs/s, iter-time: 0.46s, total-time-spent: 139.61\n",
            "#117, loss: 0.145321071147919, speed: 35561.28 imgs/s, iter-time: 0.46s, total-time-spent: 140.07\n",
            "#118, loss: 0.147055819630623, speed: 35515.67 imgs/s, iter-time: 0.46s, total-time-spent: 140.53\n",
            "#119, loss: 0.142631232738495, speed: 34317.80 imgs/s, iter-time: 0.32s, total-time-spent: 140.85\n",
            "#120, loss: 0.140332281589508, speed: 35418.94 imgs/s, iter-time: 0.46s, total-time-spent: 141.31\n",
            "#121, loss: 0.144359618425369, speed: 35888.65 imgs/s, iter-time: 0.46s, total-time-spent: 141.77\n",
            "#122, loss: 0.139759406447411, speed: 35247.23 imgs/s, iter-time: 0.46s, total-time-spent: 142.23\n",
            "#123, loss: 0.138051196932793, speed: 34524.87 imgs/s, iter-time: 0.31s, total-time-spent: 142.54\n",
            "#124, loss: 0.137769564986229, speed: 35957.02 imgs/s, iter-time: 0.46s, total-time-spent: 143.00\n",
            "#125, loss: 0.141455337405205, speed: 35268.85 imgs/s, iter-time: 0.46s, total-time-spent: 143.47\n",
            "#126, loss: 0.136946558952332, speed: 35437.79 imgs/s, iter-time: 0.46s, total-time-spent: 143.93\n",
            "#127, loss: 0.140859439969063, speed: 35129.86 imgs/s, iter-time: 0.31s, total-time-spent: 144.24\n",
            "#128, loss: 0.138045400381088, speed: 35395.10 imgs/s, iter-time: 0.46s, total-time-spent: 144.70\n",
            "#129, loss: 0.133995413780212, speed: 35437.55 imgs/s, iter-time: 0.46s, total-time-spent: 145.16\n",
            "#130, loss: 0.135990306735039, speed: 35124.22 imgs/s, iter-time: 0.47s, total-time-spent: 145.63\n",
            "#131, loss: 0.135448828339577, speed: 35393.40 imgs/s, iter-time: 0.31s, total-time-spent: 145.94\n",
            "#132, loss: 0.135161682963371, speed: 35461.44 imgs/s, iter-time: 0.46s, total-time-spent: 146.40\n",
            "#133, loss: 0.131487861275673, speed: 35506.03 imgs/s, iter-time: 0.46s, total-time-spent: 146.86\n",
            "#134, loss: 0.129377648234367, speed: 35621.04 imgs/s, iter-time: 0.46s, total-time-spent: 147.32\n",
            "#135, loss: 0.130581259727478, speed: 34713.68 imgs/s, iter-time: 0.31s, total-time-spent: 147.63\n",
            "#136, loss: 0.131761714816093, speed: 35865.67 imgs/s, iter-time: 0.46s, total-time-spent: 148.09\n",
            "#137, loss: 0.131382733583450, speed: 35431.23 imgs/s, iter-time: 0.46s, total-time-spent: 148.55\n",
            "#138, loss: 0.127779588103294, speed: 35600.93 imgs/s, iter-time: 0.46s, total-time-spent: 149.01\n",
            "#139, loss: 0.136168658733368, speed: 35343.72 imgs/s, iter-time: 0.31s, total-time-spent: 149.32\n",
            "#140, loss: 0.129985734820366, speed: 35576.62 imgs/s, iter-time: 0.46s, total-time-spent: 149.78\n",
            "#141, loss: 0.129466846585274, speed: 35580.04 imgs/s, iter-time: 0.46s, total-time-spent: 150.24\n",
            "#142, loss: 0.126758128404617, speed: 35752.44 imgs/s, iter-time: 0.46s, total-time-spent: 150.70\n",
            "#143, loss: 0.130892246961594, speed: 34839.08 imgs/s, iter-time: 0.31s, total-time-spent: 151.01\n",
            "#144, loss: 0.124038457870483, speed: 36193.67 imgs/s, iter-time: 0.45s, total-time-spent: 151.46\n",
            "#145, loss: 0.130980372428894, speed: 35535.92 imgs/s, iter-time: 0.46s, total-time-spent: 151.92\n",
            "#146, loss: 0.124478012323380, speed: 35551.77 imgs/s, iter-time: 0.46s, total-time-spent: 152.38\n",
            "#147, loss: 0.127363309264183, speed: 35133.36 imgs/s, iter-time: 0.31s, total-time-spent: 152.69\n",
            "#148, loss: 0.126290872693062, speed: 35680.51 imgs/s, iter-time: 0.46s, total-time-spent: 153.15\n",
            "#149, loss: 0.127127468585968, speed: 35987.60 imgs/s, iter-time: 0.46s, total-time-spent: 153.61\n",
            "saving checkpoint, #150, loss: 0.12273\n",
            "#150, loss: 0.122728601098061, speed: 35516.03 imgs/s, iter-time: 0.46s, total-time-spent: 154.07\n",
            "#151, loss: 0.121184438467026, speed: 35281.70 imgs/s, iter-time: 0.31s, total-time-spent: 154.39\n",
            "#152, loss: 0.118281215429306, speed: 36198.99 imgs/s, iter-time: 0.45s, total-time-spent: 154.84\n",
            "#153, loss: 0.118648998439312, speed: 35184.14 imgs/s, iter-time: 0.47s, total-time-spent: 155.31\n",
            "#154, loss: 0.122411414980888, speed: 35732.71 imgs/s, iter-time: 0.46s, total-time-spent: 155.77\n",
            "#155, loss: 0.120488822460175, speed: 34981.61 imgs/s, iter-time: 0.31s, total-time-spent: 156.08\n",
            "#156, loss: 0.118862822651863, speed: 35707.30 imgs/s, iter-time: 0.46s, total-time-spent: 156.54\n",
            "#157, loss: 0.120883405208588, speed: 35529.79 imgs/s, iter-time: 0.46s, total-time-spent: 157.00\n",
            "#158, loss: 0.113265492022038, speed: 35728.98 imgs/s, iter-time: 0.46s, total-time-spent: 157.46\n",
            "#159, loss: 0.119135111570358, speed: 35048.03 imgs/s, iter-time: 0.31s, total-time-spent: 157.77\n",
            "#160, loss: 0.118224881589413, speed: 35990.28 imgs/s, iter-time: 0.46s, total-time-spent: 158.22\n",
            "#161, loss: 0.116867706179619, speed: 35386.91 imgs/s, iter-time: 0.46s, total-time-spent: 158.68\n",
            "#162, loss: 0.116002067923546, speed: 35413.47 imgs/s, iter-time: 0.46s, total-time-spent: 159.15\n",
            "#163, loss: 0.118373259902000, speed: 35176.52 imgs/s, iter-time: 0.31s, total-time-spent: 159.46\n",
            "#164, loss: 0.115558736026287, speed: 35448.52 imgs/s, iter-time: 0.46s, total-time-spent: 159.92\n",
            "#165, loss: 0.115552231669426, speed: 35395.23 imgs/s, iter-time: 0.46s, total-time-spent: 160.38\n",
            "#166, loss: 0.112347818911076, speed: 35477.16 imgs/s, iter-time: 0.46s, total-time-spent: 160.84\n",
            "#167, loss: 0.117054209113121, speed: 34903.04 imgs/s, iter-time: 0.31s, total-time-spent: 161.15\n",
            "#168, loss: 0.112844742834568, speed: 35723.45 imgs/s, iter-time: 0.46s, total-time-spent: 161.61\n",
            "#169, loss: 0.116783201694489, speed: 35706.98 imgs/s, iter-time: 0.46s, total-time-spent: 162.07\n",
            "#170, loss: 0.110355354845524, speed: 35466.80 imgs/s, iter-time: 0.46s, total-time-spent: 162.53\n",
            "#171, loss: 0.113955877721310, speed: 34693.75 imgs/s, iter-time: 0.31s, total-time-spent: 162.85\n",
            "#172, loss: 0.113529607653618, speed: 35992.03 imgs/s, iter-time: 0.46s, total-time-spent: 163.30\n",
            "#173, loss: 0.114680357277393, speed: 35256.43 imgs/s, iter-time: 0.46s, total-time-spent: 163.77\n",
            "#174, loss: 0.107674658298492, speed: 35223.43 imgs/s, iter-time: 0.47s, total-time-spent: 164.23\n",
            "#175, loss: 0.111635133624077, speed: 34849.22 imgs/s, iter-time: 0.31s, total-time-spent: 164.54\n",
            "#176, loss: 0.109142020344734, speed: 35710.21 imgs/s, iter-time: 0.46s, total-time-spent: 165.00\n",
            "#177, loss: 0.108822308480740, speed: 35327.59 imgs/s, iter-time: 0.46s, total-time-spent: 165.47\n",
            "#178, loss: 0.110690549015999, speed: 35306.92 imgs/s, iter-time: 0.46s, total-time-spent: 165.93\n",
            "#179, loss: 0.110605977475643, speed: 34476.58 imgs/s, iter-time: 0.31s, total-time-spent: 166.24\n",
            "#180, loss: 0.105580739676952, speed: 35934.06 imgs/s, iter-time: 0.46s, total-time-spent: 166.70\n",
            "#181, loss: 0.114070557057858, speed: 35175.49 imgs/s, iter-time: 0.47s, total-time-spent: 167.17\n",
            "#182, loss: 0.104029007256031, speed: 35125.40 imgs/s, iter-time: 0.47s, total-time-spent: 167.63\n",
            "#183, loss: 0.114419050514698, speed: 34380.76 imgs/s, iter-time: 0.32s, total-time-spent: 167.95\n",
            "#184, loss: 0.105994150042534, speed: 35443.66 imgs/s, iter-time: 0.46s, total-time-spent: 168.41\n",
            "#185, loss: 0.108173817396164, speed: 35751.32 imgs/s, iter-time: 0.46s, total-time-spent: 168.87\n",
            "#186, loss: 0.105559647083282, speed: 35474.87 imgs/s, iter-time: 0.46s, total-time-spent: 169.33\n",
            "#187, loss: 0.108203805983067, speed: 34299.33 imgs/s, iter-time: 0.32s, total-time-spent: 169.65\n",
            "#188, loss: 0.102804005146027, speed: 35250.28 imgs/s, iter-time: 0.46s, total-time-spent: 170.11\n",
            "#189, loss: 0.109650492668152, speed: 35456.51 imgs/s, iter-time: 0.46s, total-time-spent: 170.58\n",
            "#190, loss: 0.101776190102100, speed: 35317.41 imgs/s, iter-time: 0.46s, total-time-spent: 171.04\n",
            "#191, loss: 0.110062241554260, speed: 35090.20 imgs/s, iter-time: 0.31s, total-time-spent: 171.35\n",
            "#192, loss: 0.105924829840660, speed: 35073.98 imgs/s, iter-time: 0.47s, total-time-spent: 171.82\n",
            "#193, loss: 0.105531990528107, speed: 35091.18 imgs/s, iter-time: 0.47s, total-time-spent: 172.28\n",
            "#194, loss: 0.103665195405483, speed: 34794.04 imgs/s, iter-time: 0.47s, total-time-spent: 172.75\n",
            "#195, loss: 0.101430997252464, speed: 34192.75 imgs/s, iter-time: 0.32s, total-time-spent: 173.07\n",
            "#196, loss: 0.103582866489887, speed: 35365.04 imgs/s, iter-time: 0.46s, total-time-spent: 173.53\n",
            "#197, loss: 0.104780353605747, speed: 35129.75 imgs/s, iter-time: 0.47s, total-time-spent: 174.00\n",
            "#198, loss: 0.103098981082439, speed: 35164.73 imgs/s, iter-time: 0.47s, total-time-spent: 174.47\n",
            "#199, loss: 0.101765871047974, speed: 34204.78 imgs/s, iter-time: 0.32s, total-time-spent: 174.78\n",
            "saving checkpoint, #200, loss: 0.09928\n",
            "#200, loss: 0.099276930093765, speed: 34867.90 imgs/s, iter-time: 0.47s, total-time-spent: 175.26\n",
            "#201, loss: 0.104348085820675, speed: 36263.71 imgs/s, iter-time: 0.45s, total-time-spent: 175.74\n",
            "#202, loss: 0.102656491100788, speed: 34535.09 imgs/s, iter-time: 0.47s, total-time-spent: 176.21\n",
            "#203, loss: 0.100248038768768, speed: 34589.83 imgs/s, iter-time: 0.31s, total-time-spent: 176.52\n",
            "#204, loss: 0.100314609706402, speed: 35417.81 imgs/s, iter-time: 0.46s, total-time-spent: 176.99\n",
            "#205, loss: 0.102432921528816, speed: 34756.66 imgs/s, iter-time: 0.47s, total-time-spent: 177.46\n",
            "#206, loss: 0.100182726979256, speed: 35166.46 imgs/s, iter-time: 0.47s, total-time-spent: 177.92\n",
            "#207, loss: 0.100773744285107, speed: 33854.15 imgs/s, iter-time: 0.32s, total-time-spent: 178.25\n",
            "#208, loss: 0.098156847059727, speed: 34934.41 imgs/s, iter-time: 0.47s, total-time-spent: 178.71\n",
            "#209, loss: 0.104240804910660, speed: 34991.83 imgs/s, iter-time: 0.47s, total-time-spent: 179.18\n",
            "#210, loss: 0.102421455085278, speed: 34434.70 imgs/s, iter-time: 0.48s, total-time-spent: 179.66\n",
            "#211, loss: 0.099259585142136, speed: 35056.38 imgs/s, iter-time: 0.31s, total-time-spent: 179.97\n",
            "#212, loss: 0.099044948816299, speed: 34442.54 imgs/s, iter-time: 0.48s, total-time-spent: 180.44\n",
            "#213, loss: 0.099601238965988, speed: 35036.95 imgs/s, iter-time: 0.47s, total-time-spent: 180.91\n",
            "#214, loss: 0.101336196064949, speed: 35008.89 imgs/s, iter-time: 0.47s, total-time-spent: 181.38\n",
            "#215, loss: 0.103002496063709, speed: 34432.59 imgs/s, iter-time: 0.32s, total-time-spent: 181.69\n",
            "#216, loss: 0.097538843750954, speed: 35012.96 imgs/s, iter-time: 0.47s, total-time-spent: 182.16\n",
            "#217, loss: 0.096375413239002, speed: 34914.76 imgs/s, iter-time: 0.47s, total-time-spent: 182.63\n",
            "#218, loss: 0.093603327870369, speed: 34892.62 imgs/s, iter-time: 0.47s, total-time-spent: 183.10\n",
            "#219, loss: 0.092821359634399, speed: 33569.43 imgs/s, iter-time: 0.32s, total-time-spent: 183.43\n",
            "#220, loss: 0.095553793013096, speed: 34432.77 imgs/s, iter-time: 0.48s, total-time-spent: 183.90\n",
            "#221, loss: 0.097323715686798, speed: 35046.67 imgs/s, iter-time: 0.47s, total-time-spent: 184.37\n",
            "#222, loss: 0.099038891494274, speed: 34887.39 imgs/s, iter-time: 0.47s, total-time-spent: 184.84\n",
            "#223, loss: 0.098211742937565, speed: 34551.30 imgs/s, iter-time: 0.31s, total-time-spent: 185.15\n",
            "#224, loss: 0.091895572841167, speed: 34581.02 imgs/s, iter-time: 0.47s, total-time-spent: 185.63\n",
            "#225, loss: 0.101123727858067, speed: 34618.72 imgs/s, iter-time: 0.47s, total-time-spent: 186.10\n",
            "#226, loss: 0.095169931650162, speed: 34776.39 imgs/s, iter-time: 0.47s, total-time-spent: 186.57\n",
            "#227, loss: 0.099128507077694, speed: 34443.82 imgs/s, iter-time: 0.31s, total-time-spent: 186.89\n",
            "#228, loss: 0.095245540142059, speed: 34647.84 imgs/s, iter-time: 0.47s, total-time-spent: 187.36\n",
            "#229, loss: 0.098007716238499, speed: 34723.29 imgs/s, iter-time: 0.47s, total-time-spent: 187.83\n",
            "#230, loss: 0.094065882265568, speed: 34499.36 imgs/s, iter-time: 0.47s, total-time-spent: 188.31\n",
            "#231, loss: 0.095462158322334, speed: 34206.68 imgs/s, iter-time: 0.32s, total-time-spent: 188.62\n",
            "#232, loss: 0.089317336678505, speed: 34396.47 imgs/s, iter-time: 0.48s, total-time-spent: 189.10\n",
            "#233, loss: 0.098057128489017, speed: 34904.32 imgs/s, iter-time: 0.47s, total-time-spent: 189.57\n",
            "#234, loss: 0.089766912162304, speed: 34487.20 imgs/s, iter-time: 0.48s, total-time-spent: 190.05\n",
            "#235, loss: 0.094928041100502, speed: 34310.06 imgs/s, iter-time: 0.32s, total-time-spent: 190.36\n",
            "#236, loss: 0.093637704849243, speed: 34137.13 imgs/s, iter-time: 0.48s, total-time-spent: 190.84\n",
            "#237, loss: 0.092749528586864, speed: 34672.33 imgs/s, iter-time: 0.47s, total-time-spent: 191.31\n",
            "#238, loss: 0.094793990254402, speed: 34307.90 imgs/s, iter-time: 0.48s, total-time-spent: 191.79\n",
            "#239, loss: 0.096587322652340, speed: 34315.52 imgs/s, iter-time: 0.32s, total-time-spent: 192.11\n",
            "#240, loss: 0.092643633484840, speed: 34744.82 imgs/s, iter-time: 0.47s, total-time-spent: 192.58\n",
            "#241, loss: 0.095492079854012, speed: 33969.93 imgs/s, iter-time: 0.48s, total-time-spent: 193.06\n",
            "#242, loss: 0.086604714393616, speed: 35047.62 imgs/s, iter-time: 0.47s, total-time-spent: 193.53\n",
            "#243, loss: 0.092358313500881, speed: 34015.04 imgs/s, iter-time: 0.32s, total-time-spent: 193.85\n",
            "#244, loss: 0.092193044722080, speed: 34789.93 imgs/s, iter-time: 0.47s, total-time-spent: 194.32\n",
            "#245, loss: 0.092078797519207, speed: 34383.67 imgs/s, iter-time: 0.48s, total-time-spent: 194.80\n",
            "#246, loss: 0.092336356639862, speed: 34579.46 imgs/s, iter-time: 0.47s, total-time-spent: 195.27\n",
            "#247, loss: 0.090516760945320, speed: 33919.95 imgs/s, iter-time: 0.32s, total-time-spent: 195.59\n",
            "#248, loss: 0.089141584932804, speed: 34888.44 imgs/s, iter-time: 0.47s, total-time-spent: 196.06\n",
            "#249, loss: 0.095499843358994, speed: 33867.29 imgs/s, iter-time: 0.48s, total-time-spent: 196.54\n",
            "saving checkpoint, #250, loss: 0.09213\n",
            "#250, loss: 0.092126540839672, speed: 34664.51 imgs/s, iter-time: 0.47s, total-time-spent: 197.02\n",
            "#251, loss: 0.090213261544704, speed: 34496.16 imgs/s, iter-time: 0.31s, total-time-spent: 197.35\n",
            "#252, loss: 0.090903915464878, speed: 34698.36 imgs/s, iter-time: 0.47s, total-time-spent: 197.82\n",
            "#253, loss: 0.090178042650223, speed: 33995.65 imgs/s, iter-time: 0.48s, total-time-spent: 198.30\n",
            "#254, loss: 0.087418645620346, speed: 34887.84 imgs/s, iter-time: 0.47s, total-time-spent: 198.77\n",
            "#255, loss: 0.092594534158707, speed: 33672.66 imgs/s, iter-time: 0.32s, total-time-spent: 199.09\n",
            "#256, loss: 0.086423717439175, speed: 34458.24 imgs/s, iter-time: 0.48s, total-time-spent: 199.57\n",
            "#257, loss: 0.090533457696438, speed: 34221.26 imgs/s, iter-time: 0.48s, total-time-spent: 200.05\n",
            "#258, loss: 0.087839469313622, speed: 34109.82 imgs/s, iter-time: 0.48s, total-time-spent: 200.53\n",
            "#259, loss: 0.086311921477318, speed: 34766.46 imgs/s, iter-time: 0.31s, total-time-spent: 200.84\n",
            "#260, loss: 0.085728950798512, speed: 34220.44 imgs/s, iter-time: 0.48s, total-time-spent: 201.32\n",
            "#261, loss: 0.088434733450413, speed: 34212.54 imgs/s, iter-time: 0.48s, total-time-spent: 201.80\n",
            "#262, loss: 0.087888814508915, speed: 34665.02 imgs/s, iter-time: 0.47s, total-time-spent: 202.27\n",
            "#263, loss: 0.085558518767357, speed: 34003.91 imgs/s, iter-time: 0.32s, total-time-spent: 202.59\n",
            "#264, loss: 0.085911326110363, speed: 35014.37 imgs/s, iter-time: 0.47s, total-time-spent: 203.06\n",
            "#265, loss: 0.090205863118172, speed: 34138.15 imgs/s, iter-time: 0.48s, total-time-spent: 203.54\n",
            "#266, loss: 0.088993370532990, speed: 34707.10 imgs/s, iter-time: 0.47s, total-time-spent: 204.01\n",
            "#267, loss: 0.088137559592724, speed: 34037.41 imgs/s, iter-time: 0.32s, total-time-spent: 204.33\n",
            "#268, loss: 0.086284317076206, speed: 34786.18 imgs/s, iter-time: 0.47s, total-time-spent: 204.80\n",
            "#269, loss: 0.094231665134430, speed: 34389.00 imgs/s, iter-time: 0.48s, total-time-spent: 205.28\n",
            "#270, loss: 0.085945963859558, speed: 34539.92 imgs/s, iter-time: 0.47s, total-time-spent: 205.75\n",
            "#271, loss: 0.087764233350754, speed: 34398.57 imgs/s, iter-time: 0.32s, total-time-spent: 206.07\n",
            "#272, loss: 0.089318312704563, speed: 34544.59 imgs/s, iter-time: 0.47s, total-time-spent: 206.54\n",
            "#273, loss: 0.085230283439159, speed: 34547.85 imgs/s, iter-time: 0.47s, total-time-spent: 207.01\n",
            "#274, loss: 0.083947725594044, speed: 34283.73 imgs/s, iter-time: 0.48s, total-time-spent: 207.49\n",
            "#275, loss: 0.088698834180832, speed: 34551.35 imgs/s, iter-time: 0.31s, total-time-spent: 207.81\n",
            "#276, loss: 0.083518825471401, speed: 34610.25 imgs/s, iter-time: 0.47s, total-time-spent: 208.28\n",
            "#277, loss: 0.083587624132633, speed: 34707.40 imgs/s, iter-time: 0.47s, total-time-spent: 208.75\n",
            "#278, loss: 0.085112586617470, speed: 34385.63 imgs/s, iter-time: 0.48s, total-time-spent: 209.23\n",
            "#279, loss: 0.081637017428875, speed: 34225.95 imgs/s, iter-time: 0.32s, total-time-spent: 209.55\n",
            "#280, loss: 0.083049952983856, speed: 34320.53 imgs/s, iter-time: 0.48s, total-time-spent: 210.02\n",
            "#281, loss: 0.083231732249260, speed: 34748.15 imgs/s, iter-time: 0.47s, total-time-spent: 210.50\n",
            "#282, loss: 0.080992132425308, speed: 34368.18 imgs/s, iter-time: 0.48s, total-time-spent: 210.97\n",
            "#283, loss: 0.080044053494930, speed: 34469.32 imgs/s, iter-time: 0.31s, total-time-spent: 211.29\n",
            "#284, loss: 0.082815065979958, speed: 34287.07 imgs/s, iter-time: 0.48s, total-time-spent: 211.77\n",
            "#285, loss: 0.086946800351143, speed: 34923.95 imgs/s, iter-time: 0.47s, total-time-spent: 212.23\n",
            "#286, loss: 0.081498414278030, speed: 34451.41 imgs/s, iter-time: 0.48s, total-time-spent: 212.71\n",
            "#287, loss: 0.082669168710709, speed: 34180.55 imgs/s, iter-time: 0.32s, total-time-spent: 213.03\n",
            "#288, loss: 0.080378830432892, speed: 34270.28 imgs/s, iter-time: 0.48s, total-time-spent: 213.51\n",
            "#289, loss: 0.082678630948067, speed: 34911.02 imgs/s, iter-time: 0.47s, total-time-spent: 213.98\n",
            "#290, loss: 0.079256102442741, speed: 34439.62 imgs/s, iter-time: 0.48s, total-time-spent: 214.45\n",
            "#291, loss: 0.082152433693409, speed: 34131.75 imgs/s, iter-time: 0.32s, total-time-spent: 214.77\n",
            "#292, loss: 0.078539609909058, speed: 34610.74 imgs/s, iter-time: 0.47s, total-time-spent: 215.24\n",
            "#293, loss: 0.082730680704117, speed: 34659.54 imgs/s, iter-time: 0.47s, total-time-spent: 215.72\n",
            "#294, loss: 0.077519565820694, speed: 34602.58 imgs/s, iter-time: 0.47s, total-time-spent: 216.19\n",
            "#295, loss: 0.083449631929398, speed: 34179.83 imgs/s, iter-time: 0.32s, total-time-spent: 216.51\n",
            "#296, loss: 0.081335730850697, speed: 34645.70 imgs/s, iter-time: 0.47s, total-time-spent: 216.98\n",
            "#297, loss: 0.085570804774761, speed: 34755.22 imgs/s, iter-time: 0.47s, total-time-spent: 217.45\n",
            "#298, loss: 0.081911765038967, speed: 34770.92 imgs/s, iter-time: 0.47s, total-time-spent: 217.92\n",
            "#299, loss: 0.079286538064480, speed: 34724.49 imgs/s, iter-time: 0.31s, total-time-spent: 218.24\n",
            "saving checkpoint, #300, loss: 0.07923\n",
            "#300, loss: 0.079232797026634, speed: 34606.06 imgs/s, iter-time: 0.47s, total-time-spent: 218.71\n",
            "#301, loss: 0.085213728249073, speed: 35528.87 imgs/s, iter-time: 0.46s, total-time-spent: 219.19\n",
            "#302, loss: 0.081440731883049, speed: 34659.54 imgs/s, iter-time: 0.47s, total-time-spent: 219.66\n",
            "#303, loss: 0.082285389304161, speed: 35047.57 imgs/s, iter-time: 0.31s, total-time-spent: 219.97\n",
            "#304, loss: 0.080469608306885, speed: 34575.09 imgs/s, iter-time: 0.47s, total-time-spent: 220.45\n",
            "#305, loss: 0.081731140613556, speed: 34756.80 imgs/s, iter-time: 0.47s, total-time-spent: 220.92\n",
            "#306, loss: 0.082244567573071, speed: 34905.79 imgs/s, iter-time: 0.47s, total-time-spent: 221.39\n",
            "#307, loss: 0.082808710634708, speed: 33677.39 imgs/s, iter-time: 0.32s, total-time-spent: 221.71\n",
            "#308, loss: 0.077753074467182, speed: 34649.93 imgs/s, iter-time: 0.47s, total-time-spent: 222.18\n",
            "#309, loss: 0.083088174462318, speed: 35375.37 imgs/s, iter-time: 0.46s, total-time-spent: 222.65\n",
            "#310, loss: 0.077462539076805, speed: 34754.71 imgs/s, iter-time: 0.47s, total-time-spent: 223.12\n",
            "#311, loss: 0.079890660941601, speed: 34930.85 imgs/s, iter-time: 0.31s, total-time-spent: 223.43\n",
            "#312, loss: 0.076954245567322, speed: 34441.24 imgs/s, iter-time: 0.48s, total-time-spent: 223.90\n",
            "#313, loss: 0.083322122693062, speed: 35130.54 imgs/s, iter-time: 0.47s, total-time-spent: 224.37\n",
            "#314, loss: 0.080132536590099, speed: 35004.63 imgs/s, iter-time: 0.47s, total-time-spent: 224.84\n",
            "#315, loss: 0.080136150121689, speed: 34671.86 imgs/s, iter-time: 0.31s, total-time-spent: 225.15\n",
            "#316, loss: 0.075795359909534, speed: 34878.27 imgs/s, iter-time: 0.47s, total-time-spent: 225.62\n",
            "#317, loss: 0.079900212585926, speed: 35101.31 imgs/s, iter-time: 0.47s, total-time-spent: 226.09\n",
            "#318, loss: 0.077532172203064, speed: 35256.54 imgs/s, iter-time: 0.46s, total-time-spent: 226.55\n",
            "#319, loss: 0.082415476441383, speed: 34778.95 imgs/s, iter-time: 0.31s, total-time-spent: 226.87\n",
            "#320, loss: 0.080812722444534, speed: 34472.71 imgs/s, iter-time: 0.48s, total-time-spent: 227.34\n",
            "#321, loss: 0.081397801637650, speed: 35265.75 imgs/s, iter-time: 0.46s, total-time-spent: 227.81\n",
            "#322, loss: 0.079998970031738, speed: 34946.26 imgs/s, iter-time: 0.47s, total-time-spent: 228.27\n",
            "#323, loss: 0.082177944481373, speed: 34994.85 imgs/s, iter-time: 0.31s, total-time-spent: 228.58\n",
            "#324, loss: 0.078688897192478, speed: 34520.10 imgs/s, iter-time: 0.47s, total-time-spent: 229.06\n",
            "#325, loss: 0.084088332951069, speed: 35247.23 imgs/s, iter-time: 0.46s, total-time-spent: 229.52\n",
            "#326, loss: 0.078915163874626, speed: 35055.95 imgs/s, iter-time: 0.47s, total-time-spent: 229.99\n",
            "#327, loss: 0.078903809189796, speed: 34790.73 imgs/s, iter-time: 0.31s, total-time-spent: 230.30\n",
            "#328, loss: 0.079764433205128, speed: 34817.91 imgs/s, iter-time: 0.47s, total-time-spent: 230.77\n",
            "#329, loss: 0.081469267606735, speed: 34912.70 imgs/s, iter-time: 0.47s, total-time-spent: 231.24\n",
            "#330, loss: 0.075912892818451, speed: 35014.56 imgs/s, iter-time: 0.47s, total-time-spent: 231.71\n",
            "#331, loss: 0.080088883638382, speed: 35016.74 imgs/s, iter-time: 0.31s, total-time-spent: 232.02\n",
            "#332, loss: 0.077759340405464, speed: 34800.03 imgs/s, iter-time: 0.47s, total-time-spent: 232.49\n",
            "#333, loss: 0.074193358421326, speed: 35114.33 imgs/s, iter-time: 0.47s, total-time-spent: 232.96\n",
            "#334, loss: 0.077661842107773, speed: 35079.91 imgs/s, iter-time: 0.47s, total-time-spent: 233.43\n",
            "#335, loss: 0.073903262615204, speed: 34724.49 imgs/s, iter-time: 0.31s, total-time-spent: 233.74\n",
            "#336, loss: 0.074421435594559, speed: 34973.27 imgs/s, iter-time: 0.47s, total-time-spent: 234.21\n",
            "#337, loss: 0.076074197888374, speed: 34717.29 imgs/s, iter-time: 0.47s, total-time-spent: 234.68\n",
            "#338, loss: 0.074865922331810, speed: 34985.29 imgs/s, iter-time: 0.47s, total-time-spent: 235.15\n",
            "#339, loss: 0.077932693064213, speed: 34891.80 imgs/s, iter-time: 0.31s, total-time-spent: 235.46\n",
            "#340, loss: 0.073069274425507, speed: 35198.32 imgs/s, iter-time: 0.47s, total-time-spent: 235.93\n",
            "#341, loss: 0.077650792896748, speed: 34669.76 imgs/s, iter-time: 0.47s, total-time-spent: 236.40\n",
            "#342, loss: 0.073848173022270, speed: 35174.99 imgs/s, iter-time: 0.47s, total-time-spent: 236.86\n",
            "#343, loss: 0.074419841170311, speed: 34585.02 imgs/s, iter-time: 0.31s, total-time-spent: 237.18\n",
            "#344, loss: 0.077230148017406, speed: 34815.86 imgs/s, iter-time: 0.47s, total-time-spent: 237.65\n",
            "#345, loss: 0.080362163484097, speed: 35221.16 imgs/s, iter-time: 0.47s, total-time-spent: 238.11\n",
            "#346, loss: 0.072411127388477, speed: 34952.21 imgs/s, iter-time: 0.47s, total-time-spent: 238.58\n",
            "#347, loss: 0.071327865123749, speed: 34739.71 imgs/s, iter-time: 0.31s, total-time-spent: 238.90\n",
            "#348, loss: 0.073911219835281, speed: 35081.22 imgs/s, iter-time: 0.47s, total-time-spent: 239.36\n",
            "#349, loss: 0.074117653071880, speed: 34668.58 imgs/s, iter-time: 0.47s, total-time-spent: 239.84\n",
            "saving checkpoint, #350, loss: 0.06839\n",
            "#350, loss: 0.068385392427444, speed: 35181.18 imgs/s, iter-time: 0.47s, total-time-spent: 240.30\n",
            "#351, loss: 0.075890772044659, speed: 35166.46 imgs/s, iter-time: 0.31s, total-time-spent: 240.62\n",
            "#352, loss: 0.074247315526009, speed: 35174.97 imgs/s, iter-time: 0.47s, total-time-spent: 241.09\n",
            "#353, loss: 0.081625603139400, speed: 34816.94 imgs/s, iter-time: 0.47s, total-time-spent: 241.56\n",
            "#354, loss: 0.072583362460136, speed: 35454.92 imgs/s, iter-time: 0.46s, total-time-spent: 242.02\n",
            "#355, loss: 0.073278963565826, speed: 34362.02 imgs/s, iter-time: 0.32s, total-time-spent: 242.34\n",
            "#356, loss: 0.072697326540947, speed: 35116.80 imgs/s, iter-time: 0.47s, total-time-spent: 242.80\n",
            "#357, loss: 0.076070189476013, speed: 34777.86 imgs/s, iter-time: 0.47s, total-time-spent: 243.28\n",
            "#358, loss: 0.072598829865456, speed: 35085.34 imgs/s, iter-time: 0.47s, total-time-spent: 243.74\n",
            "#359, loss: 0.073575429618359, speed: 34788.29 imgs/s, iter-time: 0.31s, total-time-spent: 244.06\n",
            "#360, loss: 0.075083516538143, speed: 34927.72 imgs/s, iter-time: 0.47s, total-time-spent: 244.52\n",
            "#361, loss: 0.075923629105091, speed: 34735.63 imgs/s, iter-time: 0.47s, total-time-spent: 245.00\n",
            "#362, loss: 0.074499435722828, speed: 35172.54 imgs/s, iter-time: 0.47s, total-time-spent: 245.46\n",
            "#363, loss: 0.075707599520683, speed: 34693.51 imgs/s, iter-time: 0.31s, total-time-spent: 245.77\n",
            "#364, loss: 0.073819816112518, speed: 35063.19 imgs/s, iter-time: 0.47s, total-time-spent: 246.24\n",
            "#365, loss: 0.076425500214100, speed: 34721.69 imgs/s, iter-time: 0.47s, total-time-spent: 246.71\n",
            "#366, loss: 0.070766218006611, speed: 35267.63 imgs/s, iter-time: 0.46s, total-time-spent: 247.18\n",
            "#367, loss: 0.073736548423767, speed: 34552.48 imgs/s, iter-time: 0.31s, total-time-spent: 247.49\n",
            "#368, loss: 0.072130933403969, speed: 35047.14 imgs/s, iter-time: 0.47s, total-time-spent: 247.96\n",
            "#369, loss: 0.072849728167057, speed: 34922.66 imgs/s, iter-time: 0.47s, total-time-spent: 248.43\n",
            "#370, loss: 0.072281502187252, speed: 34896.23 imgs/s, iter-time: 0.47s, total-time-spent: 248.90\n",
            "#371, loss: 0.069637209177017, speed: 34724.44 imgs/s, iter-time: 0.31s, total-time-spent: 249.21\n",
            "#372, loss: 0.075091287493706, speed: 35081.45 imgs/s, iter-time: 0.47s, total-time-spent: 249.68\n",
            "#373, loss: 0.073349982500076, speed: 34747.50 imgs/s, iter-time: 0.47s, total-time-spent: 250.15\n",
            "#374, loss: 0.073579624295235, speed: 35195.09 imgs/s, iter-time: 0.47s, total-time-spent: 250.62\n",
            "#375, loss: 0.072678089141846, speed: 34131.19 imgs/s, iter-time: 0.32s, total-time-spent: 250.94\n",
            "#376, loss: 0.072220832109451, speed: 35141.35 imgs/s, iter-time: 0.47s, total-time-spent: 251.40\n",
            "#377, loss: 0.074683316051960, speed: 34694.52 imgs/s, iter-time: 0.47s, total-time-spent: 251.87\n",
            "#378, loss: 0.069674499332905, speed: 35195.89 imgs/s, iter-time: 0.47s, total-time-spent: 252.34\n",
            "#379, loss: 0.072667673230171, speed: 34713.68 imgs/s, iter-time: 0.31s, total-time-spent: 252.65\n",
            "#380, loss: 0.072830140590668, speed: 34758.24 imgs/s, iter-time: 0.47s, total-time-spent: 253.12\n",
            "#381, loss: 0.072377689182758, speed: 35006.79 imgs/s, iter-time: 0.47s, total-time-spent: 253.59\n",
            "#382, loss: 0.069256715476513, speed: 34847.38 imgs/s, iter-time: 0.47s, total-time-spent: 254.06\n",
            "#383, loss: 0.068445742130280, speed: 34856.43 imgs/s, iter-time: 0.31s, total-time-spent: 254.37\n",
            "#384, loss: 0.075895600020885, speed: 34781.69 imgs/s, iter-time: 0.47s, total-time-spent: 254.84\n",
            "#385, loss: 0.069433294236660, speed: 34842.75 imgs/s, iter-time: 0.47s, total-time-spent: 255.32\n",
            "#386, loss: 0.072068855166435, speed: 35092.90 imgs/s, iter-time: 0.47s, total-time-spent: 255.78\n",
            "#387, loss: 0.068534381687641, speed: 34681.66 imgs/s, iter-time: 0.31s, total-time-spent: 256.09\n",
            "#388, loss: 0.067714363336563, speed: 34672.78 imgs/s, iter-time: 0.47s, total-time-spent: 256.57\n",
            "#389, loss: 0.073035635054111, speed: 35010.75 imgs/s, iter-time: 0.47s, total-time-spent: 257.04\n",
            "#390, loss: 0.071428343653679, speed: 35244.93 imgs/s, iter-time: 0.46s, total-time-spent: 257.50\n",
            "#391, loss: 0.071822807192802, speed: 34747.56 imgs/s, iter-time: 0.31s, total-time-spent: 257.81\n",
            "#392, loss: 0.068078331649303, speed: 34584.07 imgs/s, iter-time: 0.47s, total-time-spent: 258.29\n",
            "#393, loss: 0.073188960552216, speed: 35272.41 imgs/s, iter-time: 0.46s, total-time-spent: 258.75\n",
            "#394, loss: 0.069479435682297, speed: 34798.28 imgs/s, iter-time: 0.47s, total-time-spent: 259.22\n",
            "#395, loss: 0.072123438119888, speed: 35087.95 imgs/s, iter-time: 0.31s, total-time-spent: 259.53\n",
            "#396, loss: 0.068918265402317, speed: 34636.94 imgs/s, iter-time: 0.47s, total-time-spent: 260.01\n",
            "#397, loss: 0.072510287165642, speed: 34904.00 imgs/s, iter-time: 0.47s, total-time-spent: 260.48\n",
            "#398, loss: 0.068125396966934, speed: 35058.13 imgs/s, iter-time: 0.47s, total-time-spent: 260.94\n",
            "#399, loss: 0.066353060305119, speed: 34903.63 imgs/s, iter-time: 0.31s, total-time-spent: 261.25\n"
          ]
        }
      ]
    },
    {
      "cell_type": "code",
      "source": [
        "plt.plot(loss_history)"
      ],
      "metadata": {
        "colab": {
          "base_uri": "https://localhost:8080/",
          "height": 448
        },
        "id": "e2lPXTeGS9N4",
        "outputId": "bc843ddc-8c23-4d9b-fd13-c54ece6da143"
      },
      "execution_count": 8,
      "outputs": [
        {
          "output_type": "execute_result",
          "data": {
            "text/plain": [
              "[<matplotlib.lines.Line2D at 0x7f18c2001990>]"
            ]
          },
          "metadata": {},
          "execution_count": 8
        },
        {
          "output_type": "display_data",
          "data": {
            "text/plain": [
              "<Figure size 640x480 with 1 Axes>"
            ],
            "image/png": "[encoded data removed]"
          },
          "metadata": {}
        }
      ]
    },
    {
      "cell_type": "code",
      "source": [
        "plt.plot(loss_history[100:])"
      ],
      "metadata": {
        "colab": {
          "base_uri": "https://localhost:8080/",
          "height": 448
        },
        "id": "8Mb7OwADXqtD",
        "outputId": "640740ff-f124-4d11-a71f-11c8396a64f4"
      },
      "execution_count": 9,
      "outputs": [
        {
          "output_type": "execute_result",
          "data": {
            "text/plain": [
              "[<matplotlib.lines.Line2D at 0x7f189a2ed210>]"
            ]
          },
          "metadata": {},
          "execution_count": 9
        },
        {
          "output_type": "display_data",
          "data": {
            "text/plain": [
              "<Figure size 640x480 with 1 Axes>"
            ],
            "image/png": "[encoded data removed]"
          },
          "metadata": {}
        }
      ]
    },
    {
      "cell_type": "markdown",
      "source": [
        "# Testing"
      ],
      "metadata": {
        "id": "2y2UeIeeOLXz"
      }
    },
    {
      "cell_type": "code",
      "source": [
        "test_data = MNIST(DATA_DIR, train=False, transform=transforms.ToTensor())\n",
        "test_dataloader = DataLoader(test_data, batch_size=BATCH_SIZE, shuffle=True)"
      ],
      "metadata": {
        "id": "vlkZ26ptIWBw"
      },
      "execution_count": 10,
      "outputs": []
    },
    {
      "cell_type": "code",
      "source": [
        "model.eval()\n",
        "with torch.no_grad():\n",
        "  test_images, test_labels = next(iter(test_dataloader));\n",
        "  test_images, test_labels = test_images.to(device), test_labels.to(device)\n",
        "\n",
        "  predictions = model(test_images)\n",
        "  loss = crossentropy(predictions, test_labels)\n",
        "  accuracy = ((predictions.argmax(1) == test_labels).sum() / test_labels.shape[0]).item() * 100"
      ],
      "metadata": {
        "id": "11-Fn7ogLPMn"
      },
      "execution_count": 11,
      "outputs": []
    },
    {
      "cell_type": "markdown",
      "source": [
        "**Final Result**"
      ],
      "metadata": {
        "id": "SU1hUsYzOHvH"
      }
    },
    {
      "cell_type": "code",
      "source": [
        "torch.save(model.state_dict(), f'model_weights-loss={loss:.5f}.pth')"
      ],
      "metadata": {
        "id": "yKRIjDRzPEKp"
      },
      "execution_count": 12,
      "outputs": []
    },
    {
      "cell_type": "code",
      "source": [
        "print(f\"final-loss: {loss:.10f}, final-accu: {accuracy:.3f}%, speed: {sum(speed)/len(speed):.2f} imgs/s, total-time-spent: {(time.time()-initial_start_time)/60:.2f} mins\")"
      ],
      "metadata": {
        "colab": {
          "base_uri": "https://localhost:8080/"
        },
        "id": "wCFzjXlBOE2E",
        "outputId": "6d59b76c-a793-43c6-a56b-9ce32d21192f"
      },
      "execution_count": 13,
      "outputs": [
        {
          "output_type": "stream",
          "name": "stdout",
          "text": [
            "final-loss: 0.0387304276, final-accu: 98.760%, speed: 34428.52 imgs/s, total-time-spent: 4.45 mins\n"
          ]
        }
      ]
    }
  ]
}